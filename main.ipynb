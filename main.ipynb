{
 "cells": [
  {
   "cell_type": "code",
   "execution_count": 1,
   "id": "8440553e-79d0-44a9-b904-fd06eebad251",
   "metadata": {},
   "outputs": [],
   "source": [
    "import random, numpy"
   ]
  },
  {
   "cell_type": "code",
   "execution_count": 2,
   "id": "8420b817-b623-4c71-bed3-e94fabe85100",
   "metadata": {},
   "outputs": [],
   "source": [
    "def lagrange_interpolation(x_data: list[float], y_data: list[float], x_int: int) -> list[float]:\n",
    "    # check to make sure data lengths match\n",
    "    if(len(x) != len(y)):\n",
    "        print(\"Dataset lengths must match\")\n",
    "        return\n",
    "    n = len(x)\n",
    "\n",
    "    # define interpolation\n",
    "    p_interp = [0.0 for _ in range(x_int)]\n",
    "\n",
    "    for i in range(n):\n",
    "        L = [1.0 for _ in range(x_int)]\n",
    "        for j in range(n):\n",
    "            if(i == j):\n",
    "                continue\n",
    "            L[j] *= (x_int - x_data[j]) / (x_data[j] - x_data[i])\n",
    "        p_interp = [point + y_data[i] * L[i] for point in p_interp]\n",
    "    return(p_interp)"
   ]
  },
  {
   "cell_type": "code",
   "execution_count": 8,
   "id": "8976de1a-ef43-46a8-9301-c39789d6e814",
   "metadata": {},
   "outputs": [],
   "source": [
    "def N(d: float) -> float: return d * random.gauss(1)"
   ]
  },
  {
   "cell_type": "code",
   "execution_count": 4,
   "id": "7d97f9ae-392c-4382-b8e7-255b6ad11958",
   "metadata": {},
   "outputs": [],
   "source": [
    "def f_1(x: float) -> float: return(2*x + 4 + N(0.5))\n",
    "def f_2(x: float) -> float: return(x**3 - 3*x + 1 + N(0.5))"
   ]
  },
  {
   "cell_type": "code",
   "execution_count": 11,
   "id": "584baa62-aa0a-4486-8780-aeaca2155441",
   "metadata": {},
   "outputs": [],
   "source": [
    "def linear_spline(datx: list[float], daty: list[float], x_interp: int) -> list[float]:\n",
    "    n = len(datx)\n",
    "    a = [0.0 for _ in range(n - 1)]\n",
    "    b = a.copy()\n",
    "    p_interp = []\n",
    "    for i in range(n - 1):\n",
    "        a[i] = (daty[i + 1] - daty[i]) / (datx[i + 1] - datx[i])\n",
    "        b[i] = -a[i]*datx[i] + daty[i]\n",
    "    for i in range(n - 1):\n",
    "        for x in range(datx[i], datx[i+1], datx[i+1] - datx[i] / 100):\n",
    "            p_interp.append(a[i]*x + b[i])\n",
    "        # linearly interpolate b/t xs\n",
    "        # create array of interpolated values\n",
    "        # append interpolated values to p_interp\n",
    "    return(p_interp)"
   ]
  },
  {
   "cell_type": "code",
   "execution_count": 12,
   "id": "a5bc3904-085c-4a7b-b3e0-203d5e633403",
   "metadata": {},
   "outputs": [],
   "source": [
    "xs = [i for i in range(10)]\n",
    "ys = [f_1(i) for i in range(10)]"
   ]
  },
  {
   "cell_type": "code",
   "execution_count": 13,
   "id": "93e64458-5077-47d7-8b76-7553cab8f6cf",
   "metadata": {},
   "outputs": [
    {
     "ename": "TypeError",
     "evalue": "'float' object cannot be interpreted as an integer",
     "output_type": "error",
     "traceback": [
      "\u001b[0;31m---------------------------------------------------------------------------\u001b[0m",
      "\u001b[0;31mTypeError\u001b[0m                                 Traceback (most recent call last)",
      "Cell \u001b[0;32mIn[13], line 1\u001b[0m\n\u001b[0;32m----> 1\u001b[0m \u001b[43mlinear_spline\u001b[49m\u001b[43m(\u001b[49m\u001b[43mxs\u001b[49m\u001b[43m,\u001b[49m\u001b[43m \u001b[49m\u001b[43mys\u001b[49m\u001b[43m,\u001b[49m\u001b[43m \u001b[49m\u001b[38;5;241;43m0\u001b[39;49m\u001b[43m)\u001b[49m\n",
      "Cell \u001b[0;32mIn[11], line 10\u001b[0m, in \u001b[0;36mlinear_spline\u001b[0;34m(datx, daty, x_interp)\u001b[0m\n\u001b[1;32m      8\u001b[0m     b[i] \u001b[38;5;241m=\u001b[39m \u001b[38;5;241m-\u001b[39ma[i]\u001b[38;5;241m*\u001b[39mdatx[i] \u001b[38;5;241m+\u001b[39m daty[i]\n\u001b[1;32m      9\u001b[0m \u001b[38;5;28;01mfor\u001b[39;00m i \u001b[38;5;129;01min\u001b[39;00m \u001b[38;5;28mrange\u001b[39m(n \u001b[38;5;241m-\u001b[39m \u001b[38;5;241m1\u001b[39m):\n\u001b[0;32m---> 10\u001b[0m     \u001b[38;5;28;01mfor\u001b[39;00m x \u001b[38;5;129;01min\u001b[39;00m \u001b[38;5;28;43mrange\u001b[39;49m\u001b[43m(\u001b[49m\u001b[43mdatx\u001b[49m\u001b[43m[\u001b[49m\u001b[43mi\u001b[49m\u001b[43m]\u001b[49m\u001b[43m,\u001b[49m\u001b[43m \u001b[49m\u001b[43mdatx\u001b[49m\u001b[43m[\u001b[49m\u001b[43mi\u001b[49m\u001b[38;5;241;43m+\u001b[39;49m\u001b[38;5;241;43m1\u001b[39;49m\u001b[43m]\u001b[49m\u001b[43m,\u001b[49m\u001b[43m \u001b[49m\u001b[43mdatx\u001b[49m\u001b[43m[\u001b[49m\u001b[43mi\u001b[49m\u001b[38;5;241;43m+\u001b[39;49m\u001b[38;5;241;43m1\u001b[39;49m\u001b[43m]\u001b[49m\u001b[43m \u001b[49m\u001b[38;5;241;43m-\u001b[39;49m\u001b[43m \u001b[49m\u001b[43mdatx\u001b[49m\u001b[43m[\u001b[49m\u001b[43mi\u001b[49m\u001b[43m]\u001b[49m\u001b[43m \u001b[49m\u001b[38;5;241;43m/\u001b[39;49m\u001b[43m \u001b[49m\u001b[38;5;241;43m100\u001b[39;49m\u001b[43m)\u001b[49m:\n\u001b[1;32m     11\u001b[0m         p_interp\u001b[38;5;241m.\u001b[39mappend(a[i]\u001b[38;5;241m*\u001b[39mx \u001b[38;5;241m+\u001b[39m b[i])\n\u001b[1;32m     12\u001b[0m     \u001b[38;5;66;03m# linearly interpolate b/t xs\u001b[39;00m\n\u001b[1;32m     13\u001b[0m     \u001b[38;5;66;03m# create array of interpolated values\u001b[39;00m\n\u001b[1;32m     14\u001b[0m     \u001b[38;5;66;03m# append interpolated values to p_interp\u001b[39;00m\n",
      "\u001b[0;31mTypeError\u001b[0m: 'float' object cannot be interpreted as an integer"
     ]
    }
   ],
   "source": [
    "linear_spline(xs, ys, 0)"
   ]
  },
  {
   "cell_type": "code",
   "execution_count": 15,
   "id": "a5bf226e-d92a-4411-9e27-782af79036c3",
   "metadata": {},
   "outputs": [
    {
     "ename": "TypeError",
     "evalue": "'float' object cannot be interpreted as an integer",
     "output_type": "error",
     "traceback": [
      "\u001b[0;31m---------------------------------------------------------------------------\u001b[0m",
      "\u001b[0;31mTypeError\u001b[0m                                 Traceback (most recent call last)",
      "Cell \u001b[0;32mIn[15], line 1\u001b[0m\n\u001b[0;32m----> 1\u001b[0m [i \u001b[38;5;28;01mfor\u001b[39;00m i \u001b[38;5;129;01min\u001b[39;00m \u001b[38;5;28;43mrange\u001b[39;49m\u001b[43m(\u001b[49m\u001b[38;5;241;43m0\u001b[39;49m\u001b[43m,\u001b[49m\u001b[43m \u001b[49m\u001b[38;5;241;43m10\u001b[39;49m\u001b[43m,\u001b[49m\u001b[43m \u001b[49m\u001b[38;5;241;43m0.01\u001b[39;49m\u001b[43m)\u001b[49m]\n",
      "\u001b[0;31mTypeError\u001b[0m: 'float' object cannot be interpreted as an integer"
     ]
    }
   ],
   "source": [
    "[i for i in range(0, 10, 0.01)]"
   ]
  },
  {
   "cell_type": "code",
   "execution_count": 17,
   "id": "c5b23d33-a087-434b-9a2b-ec4637c4e3d4",
   "metadata": {},
   "outputs": [],
   "source": [
    "arr = [\"a\", \"b\"] + [\"c\", \"d\"]"
   ]
  },
  {
   "cell_type": "code",
   "execution_count": 18,
   "id": "34a69c23-e90f-4a63-b647-b97d6f4992d9",
   "metadata": {},
   "outputs": [],
   "source": [
    "arr += \"e\""
   ]
  },
  {
   "cell_type": "code",
   "execution_count": 19,
   "id": "43633d7a-c405-4ffe-9f70-2ab29aeb9c96",
   "metadata": {},
   "outputs": [
    {
     "data": {
      "text/plain": [
       "['a', 'b', 'c', 'd', 'e']"
      ]
     },
     "execution_count": 19,
     "metadata": {},
     "output_type": "execute_result"
    }
   ],
   "source": [
    "arr"
   ]
  },
  {
   "cell_type": "code",
   "execution_count": 20,
   "id": "9f4c96c1-45dc-4a85-8137-c18f7a5b1746",
   "metadata": {},
   "outputs": [
    {
     "ename": "TypeError",
     "evalue": "unsupported operand type(s) for +: 'int' and 'list'",
     "output_type": "error",
     "traceback": [
      "\u001b[0;31m---------------------------------------------------------------------------\u001b[0m",
      "\u001b[0;31mTypeError\u001b[0m                                 Traceback (most recent call last)",
      "Cell \u001b[0;32mIn[20], line 1\u001b[0m\n\u001b[0;32m----> 1\u001b[0m \u001b[38;5;241;43m1\u001b[39;49m\u001b[43m \u001b[49m\u001b[38;5;241;43m+\u001b[39;49m\u001b[43m \u001b[49m\u001b[43m[\u001b[49m\u001b[38;5;241;43m2\u001b[39;49m\u001b[43m,\u001b[49m\u001b[43m \u001b[49m\u001b[38;5;241;43m3\u001b[39;49m\u001b[43m]\u001b[49m\n",
      "\u001b[0;31mTypeError\u001b[0m: unsupported operand type(s) for +: 'int' and 'list'"
     ]
    }
   ],
   "source": [
    "1 + [2, 3]"
   ]
  },
  {
   "cell_type": "code",
   "execution_count": null,
   "id": "5daf775f-ff63-4a9c-854d-cae71561110f",
   "metadata": {},
   "outputs": [],
   "source": []
  }
 ],
 "metadata": {
  "kernelspec": {
   "display_name": "Python 3 (ipykernel)",
   "language": "python",
   "name": "python3"
  },
  "language_info": {
   "codemirror_mode": {
    "name": "ipython",
    "version": 3
   },
   "file_extension": ".py",
   "mimetype": "text/x-python",
   "name": "python",
   "nbconvert_exporter": "python",
   "pygments_lexer": "ipython3",
   "version": "3.12.4"
  }
 },
 "nbformat": 4,
 "nbformat_minor": 5
}
