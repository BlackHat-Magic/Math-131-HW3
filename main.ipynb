{
 "cells": [
  {
   "cell_type": "code",
   "execution_count": 5,
   "id": "8440553e-79d0-44a9-b904-fd06eebad251",
   "metadata": {},
   "outputs": [],
   "source": [
    "import random"
   ]
  },
  {
   "cell_type": "code",
   "execution_count": 4,
   "id": "8420b817-b623-4c71-bed3-e94fabe85100",
   "metadata": {},
   "outputs": [],
   "source": [
    "def lagrange_interpolation(x_data: list[float], y_data: list[float], x_int: int) -> list[float]:\n",
    "    # check to make sure data lengths match\n",
    "    if(len(x) != len(y)):\n",
    "        print(\"Dataset lengths must match\")\n",
    "        return\n",
    "    n = len(x)\n",
    "\n",
    "    # define interpolation\n",
    "    p_interp = [0.0 for _ in range(x_int)]\n",
    "\n",
    "    for i in range(n):\n",
    "        L = [1.0 for _ in range(x_int)]\n",
    "        for j in range(n):\n",
    "            if(i == j):\n",
    "                continue\n",
    "            L[j] *= (x_int - x_data[j]) / (x_data[j] - x_data[i])\n",
    "        p_interp = [point + y_data[i] * L[i] for point in p_interp]\n",
    "    return(p_interp)"
   ]
  },
  {
   "cell_type": "code",
   "execution_count": 6,
   "id": "8976de1a-ef43-46a8-9301-c39789d6e814",
   "metadata": {},
   "outputs": [],
   "source": [
    "def N(d: float) -> float: return d * random.gaussian(1)"
   ]
  },
  {
   "cell_type": "code",
   "execution_count": 8,
   "id": "7d97f9ae-392c-4382-b8e7-255b6ad11958",
   "metadata": {},
   "outputs": [],
   "source": [
    "def f_1(x: float) -> float: return(2*x + 4 + N(0.5))\n",
    "def f_2(x: float) -> float: return(x**3 - 3*x + 1 + N(0.5))"
   ]
  },
  {
   "cell_type": "code",
   "execution_count": null,
   "id": "584baa62-aa0a-4486-8780-aeaca2155441",
   "metadata": {},
   "outputs": [],
   "source": []
  }
 ],
 "metadata": {
  "kernelspec": {
   "display_name": "Python 3 (ipykernel)",
   "language": "python",
   "name": "python3"
  },
  "language_info": {
   "codemirror_mode": {
    "name": "ipython",
    "version": 3
   },
   "file_extension": ".py",
   "mimetype": "text/x-python",
   "name": "python",
   "nbconvert_exporter": "python",
   "pygments_lexer": "ipython3",
   "version": "3.12.4"
  }
 },
 "nbformat": 4,
 "nbformat_minor": 5
}
