{
 "cells": [
  {
   "cell_type": "code",
   "execution_count": 1,
   "id": "1e240bae-493c-4a43-85cd-c9b44282a44b",
   "metadata": {},
   "outputs": [],
   "source": [
    "import numpy as np"
   ]
  },
  {
   "cell_type": "markdown",
   "id": "d69099b3-a5fd-4123-a172-3e5526474de1",
   "metadata": {},
   "source": [
    "$$\n",
    "\\left[\\begin{array}{ccc|c}\n",
    "    3,960,100 & 1990 & 1 & 248,709,873 \\\\\n",
    "    4,000,000 & 2000 & 1 & 281,421,906\\\\\n",
    "    4,040,100 & 2010 & 1 & 308,745,538\n",
    "\\end{array}\\right]\n",
    "$$"
   ]
  },
  {
   "cell_type": "code",
   "execution_count": 11,
   "id": "7eef5043-2ab9-4b50-9f91-1d9b6965615f",
   "metadata": {},
   "outputs": [],
   "source": [
    "answers = np.array([\n",
    "    [3960100., 1990., 1, 248709873.],\n",
    "    [4000000., 2000., 1, 281421906.],\n",
    "    [4040100., 2010., 1, 308745538.]\n",
    "])"
   ]
  },
  {
   "cell_type": "code",
   "execution_count": 12,
   "id": "436e9352-3428-44a5-b94d-35ad74911b88",
   "metadata": {},
   "outputs": [],
   "source": [
    "R2coeff = answers[1][0] / answers[0][0]"
   ]
  },
  {
   "cell_type": "code",
   "execution_count": 13,
   "id": "b1ab1740-4685-4950-a4de-4d1a7ffc9e88",
   "metadata": {},
   "outputs": [],
   "source": [
    "answers[1] = answers[1] - R2coeff * answers[0]"
   ]
  },
  {
   "cell_type": "code",
   "execution_count": 14,
   "id": "da482207-9639-410c-ad3b-7f9eefe9799d",
   "metadata": {},
   "outputs": [
    {
     "data": {
      "text/plain": [
       "array([ 0.00000000e+00, -1.00502513e+01, -1.00755031e-02,  3.02061559e+07])"
      ]
     },
     "execution_count": 14,
     "metadata": {},
     "output_type": "execute_result"
    }
   ],
   "source": [
    "answers[1]"
   ]
  },
  {
   "cell_type": "code",
   "execution_count": 16,
   "id": "199173a5-d6a9-488d-87cd-357722fdf062",
   "metadata": {},
   "outputs": [],
   "source": [
    "R3coeff = answers[2][0] / answers[0][0]"
   ]
  },
  {
   "cell_type": "code",
   "execution_count": 17,
   "id": "4de4e255-4caf-46ec-abfc-409a838a643a",
   "metadata": {},
   "outputs": [],
   "source": [
    "answers[2] = answers[2] - R3coeff * answers[0]"
   ]
  },
  {
   "cell_type": "code",
   "execution_count": 18,
   "id": "c557744f-0e50-43dd-b36e-f1b34b96d708",
   "metadata": {},
   "outputs": [
    {
     "data": {
      "text/plain": [
       "array([[ 3.96010000e+06,  1.99000000e+03,  1.00000000e+00,\n",
       "         2.48709873e+08],\n",
       "       [ 0.00000000e+00, -1.00502513e+01, -1.00755031e-02,\n",
       "         3.02061559e+07],\n",
       "       [ 0.00000000e+00, -2.02010050e+01, -2.02015101e-02,\n",
       "         5.50113500e+07]])"
      ]
     },
     "execution_count": 18,
     "metadata": {},
     "output_type": "execute_result"
    }
   ],
   "source": [
    "answers"
   ]
  },
  {
   "cell_type": "code",
   "execution_count": null,
   "id": "db0d7e66-315b-4dc4-95df-ebf8a0ee3e82",
   "metadata": {},
   "outputs": [],
   "source": [
    "R3coeff*"
   ]
  }
 ],
 "metadata": {
  "kernelspec": {
   "display_name": "Python 3 (ipykernel)",
   "language": "python",
   "name": "python3"
  },
  "language_info": {
   "codemirror_mode": {
    "name": "ipython",
    "version": 3
   },
   "file_extension": ".py",
   "mimetype": "text/x-python",
   "name": "python",
   "nbconvert_exporter": "python",
   "pygments_lexer": "ipython3",
   "version": "3.12.4"
  }
 },
 "nbformat": 4,
 "nbformat_minor": 5
}
